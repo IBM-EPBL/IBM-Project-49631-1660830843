{
  "nbformat": 4,
  "nbformat_minor": 0,
  "metadata": {
    "colab": {
      "provenance": []
    },
    "kernelspec": {
      "name": "python3",
      "display_name": "Python 3"
    },
    "language_info": {
      "name": "python"
    }
  },
  "cells": [
    {
      "cell_type": "code",
      "source": [
        "import numpy as np\n",
        "import pandas as pd\n",
        "\n",
        "ds=pd.read_csv(\"abalone.csv\")\n",
        "\n",
        "# Rings / integer / -- / +1.5 gives the age in years\n",
        "\n",
        "ds['Age']=ds[\"Rings\"]+1.5\n",
        "\n",
        "ds.head(5)"
      ],
      "metadata": {
        "id": "N4XvW-I7gMGR"
      },
      "execution_count": null,
      "outputs": []
    },
    {
      "cell_type": "code",
      "source": [
        "# univarient analysis\n",
        "\n",
        "#frequency table for age\n",
        "\n",
        "ft = ds1['Age'].value_counts()\n",
        "\n",
        "print(\"Frequency table for Age is given below\")\n",
        "print(\"{}\\n\\n\\n\".format(ft))\n",
        "\n",
        "# mean\n",
        "\n",
        "print(\"Mean, Median, std \\n\")\n",
        "ma=ds1['Age'].mean() #mean of age\n",
        "mh = ds1['Height'].mean() #mean of height\n",
        "mel = ds1['Length'].median() #median value of length\n",
        "stw = ds1['Whole weight'].std() #standard devation of whole weight\n",
        "\n",
        "\n",
        "#chart\n",
        "\n",
        "import matplotlib.pyplot as plt # library for plot or graph\n",
        "import seaborn as sns\n",
        "\n",
        "plt.subplot(1,2,1)\n",
        "ch = ds1.boxplot(column='Diameter',grid=True,color ='red')\n",
        "plt.title('Box plot')\n",
        "\n",
        "plt.subplot(1,2,2)\n",
        "DC = sns.kdeplot(ds1['Diameter'])\n",
        "plt.title('Density Curve')\n",
        "\n",
        "\n",
        "\n",
        "print(\"1-mean of age = \",ma) \n",
        "print(\"2-mean of height = \",mh) \n",
        "print(\"3-median value of length = \",mel)#\n",
        "print(\"4-standard devation of whole weight = \",stw) \n",
        "print(\"5-frequency table for rings = \\n {}\" .format(fre)) \n",
        "print(\"\\nChart\\n\\n6-boxplot of Diameter\",flush=True)\n",
        "\n"
      ],
      "metadata": {
        "id": "qxmQD2c4gMIt"
      },
      "execution_count": null,
      "outputs": []
    },
    {
      "cell_type": "code",
      "source": [
        "#multi-varient analysis\n",
        "\n",
        "import matplotlib.pyplot as plt\n",
        "import seaborn as sns\n",
        "\n",
        "ds1=ds.head(200)\n",
        "df=sns.countplot(x=\"Viscera weight\",hue='Sex',data=ds1)\n",
        "\n",
        "print(df)"
      ],
      "metadata": {
        "id": "nvRUUXhCgMK1"
      },
      "execution_count": null,
      "outputs": []
    },
    {
      "cell_type": "code",
      "source": [
        "ds.describe()"
      ],
      "metadata": {
        "id": "GVITaxGogMM5"
      },
      "execution_count": null,
      "outputs": []
    },
    {
      "cell_type": "code",
      "source": [
        "ds.info()"
      ],
      "metadata": {
        "id": "mdK3pReCgMPC"
      },
      "execution_count": null,
      "outputs": []
    },
    {
      "cell_type": "code",
      "source": [
        "ds.isnull().sum()\n"
      ],
      "metadata": {
        "id": "1s8xND98gMS9"
      },
      "execution_count": null,
      "outputs": []
    },
    {
      "cell_type": "code",
      "source": [
        "ds.notnull()"
      ],
      "metadata": {
        "id": "AMxA5UnLgMVV"
      },
      "execution_count": null,
      "outputs": []
    },
    {
      "cell_type": "code",
      "source": [
        "sns.boxplot(ds.Diameter)"
      ],
      "metadata": {
        "id": "AykKK_yWgMXh"
      },
      "execution_count": null,
      "outputs": []
    },
    {
      "cell_type": "code",
      "source": [
        "\n",
        "Q1= ds.Diameter.quantile(0.25)\n",
        "Q3=ds.Diameter.quantile(0.75)\n",
        "\n",
        "IQR=Q3-Q1   #spread the middle values are\n",
        "\n",
        "upper_limit =Q3 + 1.5*IQR\n",
        "lower_limit =Q1 - 1.5*IQR\n",
        "\n",
        "ds['Diameter'] = np.where(ds['Diameter']>upper_limit,30,ds['Diameter'])\n",
        "\n",
        "sns.boxplot(ds.Diameter)"
      ],
      "metadata": {
        "id": "urKnms8NgMZ2"
      },
      "execution_count": null,
      "outputs": []
    },
    {
      "cell_type": "code",
      "source": [
        "from sklearn.preprocessing import LabelEncoder\n",
        "le = LabelEncoder()\n",
        "\n",
        "ds1['Sex'] = le.fit_transform(ds1['Sex'])\n",
        "ds1\n",
        "\n",
        "        # 0 = female, 1 = infant, 2 = male\n"
      ],
      "metadata": {
        "id": "LSnRy_ILgMcJ"
      },
      "execution_count": null,
      "outputs": []
    },
    {
      "cell_type": "code",
      "source": [
        "x = ds1.iloc[:, 0:9]\n",
        "x"
      ],
      "metadata": {
        "id": "AFKY6JyMgMeK"
      },
      "execution_count": null,
      "outputs": []
    },
    {
      "cell_type": "code",
      "source": [
        "y = ds1.iloc[:,9:10]\n",
        "print(y)"
      ],
      "metadata": {
        "id": "ODJ5e4F6gMgK"
      },
      "execution_count": null,
      "outputs": []
    },
    {
      "cell_type": "code",
      "source": [
        "\n",
        "from sklearn.preprocessing import scale\n",
        "from sklearn.preprocessing import MinMaxScaler\n",
        "\n",
        "mm = MinMaxScaler()\n",
        "\n",
        "x_scaled = mm.fit_transform(x)\n",
        "y_scaled = mm.fit_transform(y)"
      ],
      "metadata": {
        "id": "4mugjMqFgMiL"
      },
      "execution_count": null,
      "outputs": []
    },
    {
      "cell_type": "code",
      "source": [
        "x_scaled"
      ],
      "metadata": {
        "id": "jiJzOxr7gMkc"
      },
      "execution_count": null,
      "outputs": []
    },
    {
      "cell_type": "code",
      "source": [
        "y_scaled"
      ],
      "metadata": {
        "id": "zCRcie5PgMmw"
      },
      "execution_count": null,
      "outputs": []
    },
    {
      "cell_type": "code",
      "source": [
        "\n",
        "from sklearn.model_selection import train_test_split # library for split the data into training and testing\n",
        "\n",
        "x_train,x_test,y_train,y_test = train_test_split(x_scaled,y_scaled,train_size=0.80,test_size = 0.20,random_state=0)"
      ],
      "metadata": {
        "id": "4XZkLm6pgMpL"
      },
      "execution_count": null,
      "outputs": []
    },
    {
      "cell_type": "code",
      "source": [
        "x_train"
      ],
      "metadata": {
        "id": "7iUvtKsVgMrk"
      },
      "execution_count": null,
      "outputs": []
    },
    {
      "cell_type": "code",
      "source": [
        "x_test"
      ],
      "metadata": {
        "id": "va9r32hOgMuG"
      },
      "execution_count": null,
      "outputs": []
    },
    {
      "cell_type": "code",
      "source": [
        "y_train"
      ],
      "metadata": {
        "id": "X8eDBCRdgMwE"
      },
      "execution_count": null,
      "outputs": []
    },
    {
      "cell_type": "code",
      "source": [
        "y_test"
      ],
      "metadata": {
        "id": "nzRQek6VgMyO"
      },
      "execution_count": null,
      "outputs": []
    },
    {
      "cell_type": "code",
      "source": [
        "print(x_scaled.shape)\n",
        "print(y_scaled.shape)\n",
        "print(x_train.shape)\n",
        "print(y_train.shape)\n",
        "print(x_test.shape)\n",
        "print(y_test.shape)"
      ],
      "metadata": {
        "id": "4-G0iit-gM08"
      },
      "execution_count": null,
      "outputs": []
    },
    {
      "cell_type": "code",
      "source": [
        "from sklearn.linear_model import LinearRegression\n",
        "\n",
        "mlr = LinearRegression()\n",
        "\n",
        "mlr.fit(x_train,y_train)"
      ],
      "metadata": {
        "id": "FL9h6rW2gM2s"
      },
      "execution_count": null,
      "outputs": []
    },
    {
      "cell_type": "code",
      "source": [
        "prediction = mlr.predict(x_test) "
      ],
      "metadata": {
        "id": "VqYhlBohgM44"
      },
      "execution_count": null,
      "outputs": []
    },
    {
      "cell_type": "code",
      "source": [
        "prediction\n"
      ],
      "metadata": {
        "id": "ZtP4v0ZFgM7L"
      },
      "execution_count": null,
      "outputs": []
    },
    {
      "cell_type": "code",
      "source": [
        "prediction.astype(int)"
      ],
      "metadata": {
        "id": "yOSqiaYHgM9d"
      },
      "execution_count": null,
      "outputs": []
    },
    {
      "cell_type": "code",
      "source": [
        "y_test.astype(int)"
      ],
      "metadata": {
        "id": "qCJXQ2sXhRK0"
      },
      "execution_count": null,
      "outputs": []
    },
    {
      "cell_type": "code",
      "source": [
        "from sklearn.metrics import r2_score\n",
        "r2_score(prediction,y_test)"
      ],
      "metadata": {
        "id": "6gGAhUCxhRNV"
      },
      "execution_count": null,
      "outputs": []
    },
    {
      "cell_type": "code",
      "source": [
        "from sklearn.preprocessing import PolynomialFeatures\n",
        "plr = PolynomialFeatures(degree=2)\n",
        "x_poly = plr.fit_transform(x)"
      ],
      "metadata": {
        "id": "W2YGMJ1_hRQo"
      },
      "execution_count": null,
      "outputs": []
    },
    {
      "cell_type": "code",
      "source": [
        "x_poly"
      ],
      "metadata": {
        "id": "eIQBNr-1hRSu"
      },
      "execution_count": null,
      "outputs": []
    },
    {
      "cell_type": "code",
      "source": [
        "from sklearn.linear_model import LinearRegression\n",
        "lr = LinearRegression()\n",
        "lr.fit(x_poly,y)"
      ],
      "metadata": {
        "id": "y4XNIIiGgM_a"
      },
      "execution_count": null,
      "outputs": []
    },
    {
      "cell_type": "code",
      "source": [
        "lr.predict(plr.transform([[1,0.350,0.410,0.185,1.3035,0.3635,0.1010,0.285,16]]))"
      ],
      "metadata": {
        "id": "JyFSKQhshaLs"
      },
      "execution_count": null,
      "outputs": []
    },
    {
      "cell_type": "code",
      "source": [
        "from sklearn.linear_model import Ridge\n",
        "r = Ridge()\n",
        "r.fit(x,y)"
      ],
      "metadata": {
        "id": "fMKFNYYPhaON"
      },
      "execution_count": null,
      "outputs": []
    },
    {
      "cell_type": "code",
      "source": [
        "r.predict([[1,0.350,0.410,0.185,1.3035,0.3635,0.1010,0.285,16]])"
      ],
      "metadata": {
        "id": "EyOxSViJhaQi"
      },
      "execution_count": null,
      "outputs": []
    },
    {
      "cell_type": "code",
      "source": [
        "from sklearn.linear_model import Lasso\n",
        "l = Lasso()\n",
        "l.fit(x,y)"
      ],
      "metadata": {
        "id": "SNNmZGpQhaSt"
      },
      "execution_count": null,
      "outputs": []
    },
    {
      "cell_type": "code",
      "source": [
        "l.predict([[1,0.350,0.410,0.185,1.3035,0.3635,0.1010,0.285,16]])"
      ],
      "metadata": {
        "id": "PdabjLEohaU_"
      },
      "execution_count": null,
      "outputs": []
    }
  ]
}