{
  "nbformat": 4,
  "nbformat_minor": 0,
  "metadata": {
    "colab": {
      "provenance": [],
      "collapsed_sections": []
    },
    "kernelspec": {
      "name": "python3",
      "display_name": "Python 3"
    },
    "language_info": {
      "name": "python"
    }
  },
  "cells": [
    {
      "cell_type": "code",
      "execution_count": null,
      "metadata": {
        "id": "Lw416ST5Psdm"
      },
      "outputs": [],
      "source": [
        "import pandas as pd\n",
        "import numpy as np"
      ]
    },
    {
      "cell_type": "code",
      "source": [
        "ds=pd.read_csv('/content/Mall_Customers.csv')\n",
        "ds"
      ],
      "metadata": {
        "id": "fJkOCwsWSf2t"
      },
      "execution_count": null,
      "outputs": []
    },
    {
      "cell_type": "code",
      "source": [
        "ds.head(5)"
      ],
      "metadata": {
        "id": "yVni0aETSuOW"
      },
      "execution_count": null,
      "outputs": []
    },
    {
      "cell_type": "code",
      "source": [
        "print(ds.describe())"
      ],
      "metadata": {
        "id": "w8rJloFLTDgo"
      },
      "execution_count": null,
      "outputs": []
    },
    {
      "cell_type": "code",
      "source": [
        "annualincome = ds['Annual Income (k$)'].values\n",
        "spendingscore = ds['Spending Score (1-100)'].values\n",
        "x = np.array(list(zip(annualincome, spendingscore)))\n",
        "x"
      ],
      "metadata": {
        "id": "bHw0176nkiuc"
      },
      "execution_count": null,
      "outputs": []
    },
    {
      "cell_type": "code",
      "source": [
        "import matplotlib.pyplot as plt"
      ],
      "metadata": {
        "id": "Qb0_Io4388KI"
      },
      "execution_count": null,
      "outputs": []
    },
    {
      "cell_type": "code",
      "source": [
        "from sklearn.cluster import KMeans\n",
        "wcss = []\n",
        "for i in range(1,11):\n",
        "    km=KMeans(i,random_state = 0)\n",
        "    km.fit(x)\n",
        "    wcss.append(km.inertia_)\n",
        "plt.plot(range(1,11),wcss,color='red',marker=\"*\")\n",
        "plt.title(\"optimal k value\")\n",
        "plt.xlabel(\"number of clusters\")\n",
        "plt.ylabel('wcss')\n",
        "plt.show()"
      ],
      "metadata": {
        "colab": {
          "base_uri": "https://localhost:8080/",
          "height": 295
        },
        "id": "RQHtKMP-l8ar",
        "outputId": "2b1e8f3d-e538-4a44-c4ab-23ac941944cb"
      },
      "execution_count": null,
      "outputs": [
        {
          "output_type": "display_data",
          "data": {
            "text/plain": [
              "<Figure size 432x288 with 1 Axes>"
            ],
            "image/png": "[encoded data removed]"
          },
          "metadata": {
            "needs_background": "light"
          }
        }
      ]
    },
    {
      "cell_type": "code",
      "source": [
        "model = KMeans( i,random_state=0)\n",
        "y_means = model.fit_predict(x)\n",
        "y_means"
      ],
      "metadata": {
        "id": "vCGXzkanms4R",
        "colab": {
          "base_uri": "https://localhost:8080/"
        },
        "outputId": "d75bdeee-89cf-4dc8-9503-3e70b5c0e7ea"
      },
      "execution_count": null,
      "outputs": [
        {
          "output_type": "execute_result",
          "data": {
            "text/plain": [
              "array([1, 4, 7, 4, 1, 4, 7, 4, 7, 4, 7, 4, 7, 4, 7, 4, 1, 4, 1, 4, 1, 4,\n",
              "       7, 4, 7, 4, 1, 4, 1, 4, 7, 4, 7, 4, 7, 4, 7, 4, 1, 4, 1, 4, 1, 6,\n",
              "       1, 6, 6, 6, 6, 6, 6, 6, 6, 6, 6, 6, 6, 6, 6, 6, 6, 6, 6, 6, 6, 6,\n",
              "       6, 6, 6, 6, 6, 6, 6, 6, 6, 6, 6, 6, 6, 2, 6, 6, 2, 6, 6, 6, 6, 6,\n",
              "       6, 2, 2, 2, 2, 2, 2, 2, 2, 2, 2, 2, 2, 2, 2, 2, 2, 2, 2, 2, 2, 2,\n",
              "       2, 2, 2, 2, 2, 2, 2, 2, 2, 2, 2, 2, 2, 0, 2, 5, 2, 0, 3, 5, 3, 5,\n",
              "       2, 5, 3, 0, 3, 5, 3, 5, 3, 0, 2, 0, 3, 0, 2, 5, 3, 0, 3, 0, 3, 5,\n",
              "       3, 0, 3, 5, 3, 5, 2, 0, 3, 0, 3, 5, 3, 0, 3, 5, 3, 5, 3, 0, 3, 0,\n",
              "       3, 5, 3, 0, 3, 0, 3, 0, 3, 0, 3, 8, 3, 8, 3, 8, 9, 8, 9, 8, 9, 8,\n",
              "       9, 8], dtype=int32)"
            ]
          },
          "metadata": {},
          "execution_count": 23
        }
      ]
    },
    {
      "cell_type": "code",
      "source": [
        "plt.scatter(x[y_means==0,0],x[y_means==0,1],s=50, c='brown', label='1')\n",
        "plt.scatter(x[y_means==1,0],x[y_means==1,1],s=50, c='blue', label='2')\n",
        "plt.scatter(x[y_means==2,0],x[y_means==2,1],s=50, c='green', label='3')\n",
        "plt.scatter(x[y_means==3,0],x[y_means==3,1],s=50, c='cyan', label='4')\n",
        "plt.scatter(model.cluster_centers_[:,0], model.cluster_centers_[:,1],s=100,marker='s', c='red', label='centroids')\n",
        "plt.title('analysis')\n",
        "plt.xlabel('income')\n",
        "plt.ylabel('spend')\n",
        "plt.legend()\n",
        "plt.show()"
      ],
      "metadata": {
        "id": "i08W2EbRnKP1",
        "colab": {
          "base_uri": "https://localhost:8080/",
          "height": 295
        },
        "outputId": "76cd7941-f65f-4240-e023-a62be49ebf40"
      },
      "execution_count": null,
      "outputs": [
        {
          "output_type": "display_data",
          "data": {
            "text/plain": [
              "<Figure size 432x288 with 1 Axes>"
            ],
            "image/png": "[encoded data removed]"
          },
          "metadata": {
            "needs_background": "light"
          }
        }
      ]
    }
  ]
}