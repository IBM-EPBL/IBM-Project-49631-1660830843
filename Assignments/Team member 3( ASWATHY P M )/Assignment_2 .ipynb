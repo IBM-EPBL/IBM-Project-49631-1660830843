{
  "nbformat": 4,
  "nbformat_minor": 0,
  "metadata": {
    "colab": {
      "provenance": []
    },
    "kernelspec": {
      "name": "python3",
      "display_name": "Python 3"
    },
    "language_info": {
      "name": "python"
    }
  },
  "cells": [
    {
      "cell_type": "code",
      "source": [
        "import pandas as pd\n",
        "df=pd.read_csv(\"Churn_Modelling.csv\")\n",
        "print(df)"
      ],
      "metadata": {
        "id": "8mNGfByZejdk"
      },
      "execution_count": null,
      "outputs": []
    },
    {
      "cell_type": "code",
      "source": [
        "\n",
        "\n",
        "import pandas as pd\n",
        "df=pd.read_csv(\"Churn_Modelling.csv\")\n",
        "\n",
        "\n",
        "M=df['CreditScore'].mean()\n",
        "\n",
        "\n",
        "Me=df['CreditScore'].median()\n",
        "\n",
        "std = df['CreditScore'].std()\n",
        "\n",
        "print(\"mean value of CreditScore is {}\".format(M))\n",
        "print(\"median value of CreditScore is {}\".format(Me))\n",
        "print(\"Standard deviation of CreditScore is {}\".format(std))"
      ],
      "metadata": {
        "id": "_KHoZJFtejgn"
      },
      "execution_count": null,
      "outputs": []
    },
    {
      "cell_type": "code",
      "source": [
        "\n",
        "import pandas as pd\n",
        "df=pd.read_csv(\"Churn_Modelling.csv\")\n",
        "\n",
        "\n",
        "ft=df['Age'].value_counts()\n",
        "\n",
        "print(\"Frequency table for Age is given below\")\n",
        "print(\"{}\".format(ft))"
      ],
      "metadata": {
        "id": "9U-Fqdbkeji5"
      },
      "execution_count": null,
      "outputs": []
    },
    {
      "cell_type": "code",
      "source": [
        "#Chart\n",
        "\n",
        "import matplotlib.pyplot as plt\n",
        "dfs = df.head() \n",
        "print(dfs) \n",
        "\n",
        "\n",
        "\n",
        "dfs.boxplot(column=\"Balance\",grid=False,color=\"red\")\n",
        "plt.title('Box plot')"
      ],
      "metadata": {
        "id": "05t4gw7aejlI"
      },
      "execution_count": null,
      "outputs": []
    },
    {
      "cell_type": "code",
      "source": [
        "\n",
        "\n",
        "df.hist(column=\"CreditScore\" ,grid=True, edgecolor ='black', color ='red')\n",
        "plt.title('Histogram')"
      ],
      "metadata": {
        "id": "2GXFA5wXejnf"
      },
      "execution_count": null,
      "outputs": []
    },
    {
      "cell_type": "code",
      "source": [
        "\n",
        "import seaborn as sns  \n",
        "\n",
        "sns.kdeplot(df['CreditScore'])\n",
        "plt.title('Density Curve')"
      ],
      "metadata": {
        "id": "TLoKuZOdejpu"
      },
      "execution_count": null,
      "outputs": []
    },
    {
      "cell_type": "code",
      "source": [
        "import matplotlib.pyplot as plt \n",
        "\n",
        "dfs1 = df.head(20)\n",
        "plt.scatter(dfs1.CreditScore,dfs1.Balance)\n",
        "plt.title('Scatterplots-- Banking')\n",
        "plt.xlabel(\"CreditScore\")\n",
        "plt.ylabel(\"Balance\")\n",
        "\n"
      ],
      "metadata": {
        "id": "4y_lDDoJejrr"
      },
      "execution_count": null,
      "outputs": []
    },
    {
      "cell_type": "code",
      "source": [
        "df.corr()"
      ],
      "metadata": {
        "id": "TZkzN27Rejtt"
      },
      "execution_count": null,
      "outputs": []
    },
    {
      "cell_type": "code",
      "source": [
        "import pandas as pd\n",
        "import numpy as np\n",
        "import matplotlib.pyplot as plt\n",
        "import seaborn as sns\n"
      ],
      "metadata": {
        "id": "P4zNS9XXejv2"
      },
      "execution_count": null,
      "outputs": []
    },
    {
      "cell_type": "code",
      "source": [
        "df=sns.catplot(x=\"Geography\",y=\"EstimatedSalary\",hue=\"Gender\",kind=\"swarm\",data=df)\n",
        "print(df)"
      ],
      "metadata": {
        "id": "r6XCPcjVeyIE"
      },
      "execution_count": null,
      "outputs": []
    },
    {
      "cell_type": "code",
      "source": [
        "\n",
        "ld= pd.read_csv(\"Churn_Modelling.csv\")\n",
        "five = ld.head() "
      ],
      "metadata": {
        "id": "Bmfb5G7heyK_"
      },
      "execution_count": null,
      "outputs": []
    },
    {
      "cell_type": "code",
      "source": [
        "ld.info()"
      ],
      "metadata": {
        "id": "hDsnjqCleyNz"
      },
      "execution_count": null,
      "outputs": []
    },
    {
      "cell_type": "code",
      "source": [
        "ld.describe()"
      ],
      "metadata": {
        "id": "V2OSxINFeyQS"
      },
      "execution_count": null,
      "outputs": []
    },
    {
      "cell_type": "code",
      "source": [
        "ld.isnull().any()"
      ],
      "metadata": {
        "id": "u-HbWVv8eySe"
      },
      "execution_count": null,
      "outputs": []
    },
    {
      "cell_type": "code",
      "source": [
        "ld.isnull().sum()"
      ],
      "metadata": {
        "id": "C0DjKLVBeyUl"
      },
      "execution_count": null,
      "outputs": []
    },
    {
      "cell_type": "code",
      "source": [
        "sns.heatmap(ld.corr(),annot=True) "
      ],
      "metadata": {
        "id": "hg95M9jIeyW6"
      },
      "execution_count": null,
      "outputs": []
    },
    {
      "cell_type": "code",
      "source": [
        "\n",
        "ld1= pd.read_csv(\"Churn_Modelling.csv\")\n",
        "sns.boxplot(ld1.CreditScore)"
      ],
      "metadata": {
        "id": "GBt_XIRSeyZC"
      },
      "execution_count": null,
      "outputs": []
    },
    {
      "cell_type": "code",
      "source": [
        "\n",
        "\n",
        "Q1= ld1.CreditScore.quantile(0.25)\n",
        "Q3=ld1.CreditScore.quantile(0.75)\n",
        "IQR=Q3-Q1\n",
        "upper_limit =Q3 + 1.5*IQR\n",
        "lower_limit =Q1 - 1.5*IQR\n",
        "ld1['CreditScore'] = np.where(ld1['CreditScore']>upper_limit,30,ld1['CreditScore'])\n",
        "sns.boxplot(ld1.CreditScore)"
      ],
      "metadata": {
        "id": "XZaUgB1reybE"
      },
      "execution_count": null,
      "outputs": []
    },
    {
      "cell_type": "code",
      "source": [
        "ld1.head(5)"
      ],
      "metadata": {
        "id": "3PSyp813ejxv"
      },
      "execution_count": null,
      "outputs": []
    },
    {
      "cell_type": "code",
      "source": [
        "\n",
        "from sklearn.preprocessing import LabelEncoder\n",
        "le=LabelEncoder()\n",
        "ld1.Gender= le.fit_transform(ld1.Gender)\n",
        "ld1.head(5)"
      ],
      "metadata": {
        "id": "2ZlsleAxejzj"
      },
      "execution_count": null,
      "outputs": []
    },
    {
      "cell_type": "code",
      "source": [
        "\n",
        "ld1_main=pd.get_dummies(ld1,columns=['Geography'])\n",
        "ld1_main.head()"
      ],
      "metadata": {
        "id": "3hlxe2EWfDIu"
      },
      "execution_count": null,
      "outputs": []
    },
    {
      "cell_type": "code",
      "source": [
        "\n",
        "df=pd.read_csv(\"Churn_Modelling.csv\")\n",
        "X = df.iloc[:, :-1].values\n",
        "print(X)"
      ],
      "metadata": {
        "id": "9LSneszFfDLC"
      },
      "execution_count": null,
      "outputs": []
    },
    {
      "cell_type": "code",
      "source": [
        "\n",
        "Y = df.iloc[:, -1].values\n",
        "print(Y)"
      ],
      "metadata": {
        "id": "_ZvSowiMfDM9"
      },
      "execution_count": null,
      "outputs": []
    },
    {
      "cell_type": "code",
      "source": [
        "w = df.head()\n",
        "q = w[['Age','Balance','EstimatedSalary']] \n",
        "q"
      ],
      "metadata": {
        "id": "Rm2Ji2CNfDPB"
      },
      "execution_count": null,
      "outputs": []
    },
    {
      "cell_type": "code",
      "source": [
        "from sklearn.preprocessing import scale \n",
        "from sklearn.preprocessing import MinMaxScaler\n",
        "mm = MinMaxScaler()\n",
        "\n",
        "x_scaled = mm.fit_transform(q)\n",
        "x_scaled"
      ],
      "metadata": {
        "id": "--4pBG49fDQ1"
      },
      "execution_count": null,
      "outputs": []
    },
    {
      "cell_type": "code",
      "source": [
        "from sklearn.preprocessing import StandardScaler\n",
        "sc =  StandardScaler()\n",
        "x_ss = sc.fit_transform(q)\n",
        "x_ss"
      ],
      "metadata": {
        "id": "QfEKKytifDS0"
      },
      "execution_count": null,
      "outputs": []
    },
    {
      "cell_type": "code",
      "source": [
        "from sklearn.preprocessing import scale\n",
        "X_scaled=pd.DataFrame(scale(q),columns=q.columns)\n",
        "X_scale=X_scaled.head()\n",
        "X_scale"
      ],
      "metadata": {
        "id": "WStZcilNfDU7"
      },
      "execution_count": null,
      "outputs": []
    },
    {
      "cell_type": "code",
      "source": [
        "x= df[['Age','Balance','EstimatedSalary']]\n",
        "x"
      ],
      "metadata": {
        "id": "yyUeFGe3fDW_"
      },
      "execution_count": null,
      "outputs": []
    },
    {
      "cell_type": "code",
      "source": [
        "y = df['Balance']\n",
        "y"
      ],
      "metadata": {
        "id": "1tHlNsAlfDY3"
      },
      "execution_count": null,
      "outputs": []
    },
    {
      "cell_type": "code",
      "source": [
        "\n",
        "from sklearn.preprocessing import StandardScaler, MinMaxScaler\n",
        "sc = StandardScaler()\n",
        "x_scaled1 = sc.fit_transform(x)\n",
        "x_scaled1"
      ],
      "metadata": {
        "id": "ZPO53aYEfDa7"
      },
      "execution_count": null,
      "outputs": []
    },
    {
      "cell_type": "code",
      "source": [
        "\n",
        "from sklearn.model_selection import train_test_split\n",
        "x_train, x_test, y_train, y_test = train_test_split(x_scaled1, y, test_size = 0.3, random_state = 0)"
      ],
      "metadata": {
        "id": "bOwcxForfQxx"
      },
      "execution_count": null,
      "outputs": []
    },
    {
      "cell_type": "code",
      "source": [
        "x_train"
      ],
      "metadata": {
        "id": "V-WQTk6DfQ0X"
      },
      "execution_count": null,
      "outputs": []
    },
    {
      "cell_type": "code",
      "source": [
        "x_train.shape"
      ],
      "metadata": {
        "id": "DHdnUZDBfQ2U"
      },
      "execution_count": null,
      "outputs": []
    },
    {
      "cell_type": "code",
      "source": [
        "x_test"
      ],
      "metadata": {
        "id": "5SOcArFifQ4R"
      },
      "execution_count": null,
      "outputs": []
    },
    {
      "cell_type": "code",
      "source": [
        "x_test.shape"
      ],
      "metadata": {
        "id": "pPECr92QfQ6M"
      },
      "execution_count": null,
      "outputs": []
    },
    {
      "cell_type": "code",
      "source": [
        "y_train"
      ],
      "metadata": {
        "id": "Fw98_e3sfQ8K"
      },
      "execution_count": null,
      "outputs": []
    },
    {
      "cell_type": "code",
      "source": [
        "y_test"
      ],
      "metadata": {
        "id": "ufIjPQE9fZPK"
      },
      "execution_count": null,
      "outputs": []
    }
  ]
}